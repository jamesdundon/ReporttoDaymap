{
 "cells": [
  {
   "cell_type": "markdown",
   "metadata": {},
   "source": [
    "# Convert Year 11 Reporting Data to Daymap"
   ]
  },
  {
   "cell_type": "code",
   "execution_count": 14,
   "metadata": {
    "collapsed": true
   },
   "outputs": [],
   "source": [
    "# Python3 Script to import CSV containing student reporting data,\n",
    "# automatically remove useless data, then append & re-format other\n",
    "# data into suitable format for import into Daymap.\n",
    "# \n",
    "# Author: Glen McKie & James Dundon\n",
    "# e: glen.mckie709@schools.sa.edu.au\n",
    "# e: james.dundon341@schools.sa.edu.au\n",
    "# Organisation: Modbury High School\n",
    "# \n",
    "# Current Version: in progress\n",
    "# Date: December 2017\n",
    "\n",
    "#CSV data should be organised using the included CSV titled Yr11_daymap_preparationSubject.csv\n"
   ]
  },
  {
   "cell_type": "markdown",
   "metadata": {},
   "source": [
    "# Choose Year Level and Term"
   ]
  },
  {
   "cell_type": "code",
   "execution_count": 11,
   "metadata": {
    "collapsed": true
   },
   "outputs": [],
   "source": [
    "term = 4\n",
    "\n",
    "# For formatting based year level and term.\n",
    "year_level_types = ['Year 8,9 and 10,11 Term and 12 Term 1', '10, 11, 12 Semester', '12 Term 3']\n",
    "\n",
    "# From year_level_types select appropriate with ZERO index.\n",
    "current_year_level = year_level_types[0]\n",
    "\n",
    "# Grade types ie term, exam, semester\n",
    "numgrade_types = 1\n",
    "\n",
    "# Number of subjects\n",
    "Num_subjects = 7"
   ]
  },
  {
   "cell_type": "markdown",
   "metadata": {},
   "source": [
    "## CSV Generation"
   ]
  },
  {
   "cell_type": "code",
   "execution_count": 12,
   "metadata": {
    "collapsed": true
   },
   "outputs": [],
   "source": [
    "# Import pandas library\n",
    "import pandas as pd\n",
    "import numpy as np"
   ]
  },
  {
   "cell_type": "code",
   "execution_count": 27,
   "metadata": {},
   "outputs": [
    {
     "name": "stdout",
     "output_type": "stream",
     "text": [
      "Attempting to import Reporting Data from file: \"year9.csv\"...\n",
      "Import of \"year9.csv\" was successful!\n"
     ]
    }
   ],
   "source": [
    "# Read CSV file (Reporting) & input into a Pandas 'data frame'\n",
    "\n",
    "# Define import path as variable \"filename\"\n",
    "# This could be an input variable in later versions...\n",
    "\n",
    "Input_CSV_File = 'year9.csv'\n",
    "print ('Attempting to import Reporting Data from file: \"'+ Input_CSV_File + '\"...')\n",
    "Data_In = pd.read_csv(Input_CSV_File)\n",
    "# Check file import for correctness\n",
    "print('Import of \"' + Input_CSV_File + '\" was successful!')\n"
   ]
  },
  {
   "cell_type": "code",
   "execution_count": 28,
   "metadata": {},
   "outputs": [
    {
     "name": "stdout",
     "output_type": "stream",
     "text": [
      "All students have the correct number of grade attributes\n"
     ]
    }
   ],
   "source": [
    "# Check for dodgy student data, may not catch all if have varied subject numbers.\n",
    "\n",
    "Student_IDS = Data_In['Student ID'].astype('str')\n",
    "uniqueIDS = []\n",
    "for student in Student_IDS:\n",
    "    if Student_IDS.str.count(student).sum() % numgrade_types != 0:\n",
    "        if not student in uniqueIDS:\n",
    "            uniqueIDS.append(student)\n",
    "\n",
    "if len(uniqueIDS) > 0:\n",
    "    for student in uniqueIDS:\n",
    "        print((student)+':','does not have the correct number of grade attributes')\n",
    "else:          \n",
    "    print('All students have the correct number of grade attributes')"
   ]
  },
  {
   "cell_type": "code",
   "execution_count": 29,
   "metadata": {},
   "outputs": [
    {
     "name": "stdout",
     "output_type": "stream",
     "text": [
      "177\n"
     ]
    }
   ],
   "source": [
    "# Creates a list of student ID's\n",
    "studentIDS = []\n",
    "for i in range(len(Data_In.index)):\n",
    "    if not Data_In.loc[i]['Student ID'] in studentIDS:\n",
    "        studentIDS.append(Data_In.loc[i]['Student ID'])\n",
    "print(len(studentIDS))"
   ]
  },
  {
   "cell_type": "code",
   "execution_count": 30,
   "metadata": {},
   "outputs": [
    {
     "name": "stdout",
     "output_type": "stream",
     "text": [
      "Length of index: 1227\n"
     ]
    }
   ],
   "source": [
    "#Check the length of Index\n",
    "print('Length of index:',len(Data_In.index))"
   ]
  },
  {
   "cell_type": "code",
   "execution_count": 31,
   "metadata": {},
   "outputs": [
    {
     "name": "stdout",
     "output_type": "stream",
     "text": [
      "Setting up new data frame to hold imported data...\n"
     ]
    }
   ],
   "source": [
    "# Required CSV format is:\n",
    "# Column 1 = Student_Code\n",
    "# Columns 2:_ = Subjects\n",
    "\n",
    "# Set up a data frame to hold data in converted format\n",
    "\n",
    "print('Setting up new data frame to hold imported data...')\n",
    "\n",
    "Required_Format = {'StudentCode' : ['']}\n",
    "for i in range(Num_subjects):\n",
    "    Required_Format['Subject'+str(i+1)] = ['']\n",
    "Data_Out = pd.DataFrame(Required_Format)\n",
    "\n",
    "headers = ['StudentCode']\n",
    "for i in range(Num_subjects):\n",
    "    headers.append('Subject'+ str(i+1))\n",
    "\n",
    "# Specify order of Data_Out columns\n",
    "\n",
    "#Data_Out = Data_Out[['StudentCode','Subject1','Subject2','Subject3','Subject4','Subject5','Subject6','Subject7']]\n",
    "\n",
    "# Would like to automate this based on Num_subjects\n",
    "row = pd.Series([''], index = headers)\n",
    "\n",
    "# Creates an empty data frame with rows equalling the length of unique student ID's\n",
    "for i in range(len(studentIDS)-1):\n",
    "                Data_Out = Data_Out.append(row,ignore_index=True)\n"
   ]
  },
  {
   "cell_type": "code",
   "execution_count": 32,
   "metadata": {
    "scrolled": false
   },
   "outputs": [
    {
     "name": "stdout",
     "output_type": "stream",
     "text": [
      "New Data Frame Complete!\n"
     ]
    }
   ],
   "source": [
    "# Create variable to act as index within Data_In AND Data_Out df...\n",
    "data_out_index = 0\n",
    "data_in_index = 0\n",
    "\n",
    "\n",
    "\n",
    "# Loop through each student ID\n",
    "for ID in studentIDS:\n",
    "\n",
    "    #While the student ID matches a row in the dataframe with that ID\n",
    "    while ID == Data_In.loc[data_in_index]['Student ID']:\n",
    "        # Extract Student ID from CSV & place data into df 'Data_Out' as Student Code\n",
    "\n",
    "        Data_Out.loc[data_out_index]['StudentCode'] = Data_In.loc[data_in_index]['Student ID']\n",
    "        student_code = Data_In.loc[data_in_index]['Student ID']\n",
    "\n",
    "        # Required data for each subject is \"SubjectName: Term 2, Grade, Exam, Grade, Semester, Grade\" \n",
    "        # Term_Grade = Subject grade in INPUT file\n",
    "        # Exam_Grade = Subject grade2 in INPUT file\n",
    "        # Semester_Grade = Subject grade3 in INPUT file\n",
    "\n",
    "        ############################## \n",
    "\n",
    "        # Extract SUBJECT data & place data into df 'Data_Out' in required format\n",
    "        # if student_code in row matches current student (handles limited subjects for a student)\n",
    "        # Cycles through for number of subjects in Num_subjects\n",
    "        if current_year_level == year_level_types[1]:\n",
    "            for i in range(Num_subjects):\n",
    "                if  student_code == Data_In.loc[data_in_index]['Student ID']:\n",
    "                    subject_name = str(Data_In.loc[data_in_index]['Subject'])\n",
    "                    term_grade = str(Data_In.loc[data_in_index]['EnteredText'])\n",
    "                    exam_grade = str(Data_In.loc[data_in_index+1]['EnteredText'])\n",
    "                    semester_grade = str(Data_In.loc[data_in_index+2]['EnteredText'])\n",
    "                    # Deal with nan grade bug\n",
    "                    if(term_grade) == 'nan':\n",
    "                            term_grade = str('NA')\n",
    "                    if(exam_grade) == 'nan':\n",
    "                            exam_grade = str('NA')\n",
    "                    if(semester_grade) == 'nan':\n",
    "                            semester_grade = str('NA')\n",
    "\n",
    "                    Data_Out.loc[data_out_index]['Subject'+str(i+1)] = subject_name + \": \" + 'Term' + str(term) + ', ' + term_grade + \", Exam, \" + exam_grade +\", Semester, \" + semester_grade\n",
    "\n",
    "                    # Output converted SUBJECT data for checking\n",
    "                    converted_summary = Data_Out.loc[data_out_index,'Subject'+str(i+1)]\n",
    "                    # To print output, uncomment line below\n",
    "                    #print(converted_summary)\n",
    "                    # Move to next subject within the same student's data in Data_In\n",
    "                    if data_in_index + numgrade_types > len(Data_In.index)-1:\n",
    "                        break\n",
    "                    else:\n",
    "                        data_in_index = data_in_index + numgrade_types\n",
    "                        \n",
    "        if current_year_level == year_level_types[0]:\n",
    "            for i in range(Num_subjects):\n",
    "                if  student_code == Data_In.loc[data_in_index]['Student ID']:\n",
    "                    subject_name = str(Data_In.loc[data_in_index]['Subject'])\n",
    "                    term_grade = str(Data_In.loc[data_in_index]['EnteredText'])\n",
    "                    # Deal with nan grade bug\n",
    "                    if(term_grade) == 'nan':\n",
    "                            term_grade = str('NA')\n",
    "                    Data_Out.loc[data_out_index]['Subject'+str(i+1)] = subject_name + \": \" + 'Term' + str(term) + ', ' + term_grade\n",
    "                    # Output converted SUBJECT data for checking\n",
    "                    converted_summary = Data_Out.loc[data_out_index,'Subject'+str(i+1)]\n",
    "                    # To print output, uncomment line below\n",
    "                    #print(converted_summary)\n",
    "                    # Move to next subject within the same student's data in Data_In\n",
    "                    if data_in_index + numgrade_types > len(Data_In.index)-1:\n",
    "                        break\n",
    "                    else:\n",
    "                        data_in_index = data_in_index + numgrade_types\n",
    "                        \n",
    "        if current_year_level == year_level_types[2]:\n",
    "            for i in range(Num_subjects):\n",
    "                if  student_code == Data_In.loc[data_in_index]['Student ID']:\n",
    "                    subject_name = str(Data_In.loc[data_in_index]['Subject'])\n",
    "                    term_grade = str(Data_In.loc[data_in_index]['EnteredText'])\n",
    "                    cumulative_grade = str(Data_In.loc[data_in_index+1]['EnteredText'])\n",
    "                    # Deal with nan grade bug\n",
    "                    if(term_grade) == 'nan':\n",
    "                            term_grade = str('NA')\n",
    "                    if(cumulative_grade) == 'nan':\n",
    "                            exam_grade = str('NA')\n",
    "\n",
    "                    Data_Out.loc[data_out_index]['Subject'+str(i+1)] = subject_name + \": \" + 'Term' + str(term) + ', ' + term_grade + \", Cumulative Grade, \" + cumulative_grade\n",
    "\n",
    "                    # Output converted SUBJECT data for checking\n",
    "                    converted_summary = Data_Out.loc[data_out_index,'Subject'+str(i+1)]\n",
    "                    # To print output, uncomment line below\n",
    "                    #print(converted_summary)\n",
    "                    # Move to next subject within the same student's data in Data_In\n",
    "                    if data_in_index + numgrade_types > len(Data_In.index)-1:\n",
    "                        break\n",
    "                    else:\n",
    "                        data_in_index = data_in_index + numgrade_types\n",
    "        \n",
    "        data_out_index += 1\n",
    "        if data_in_index + numgrade_types > len(Data_In.index)-1:\n",
    "            break\n",
    "\n",
    "#All data loop Finished    \n",
    "print('New Data Frame Complete!')"
   ]
  },
  {
   "cell_type": "code",
   "execution_count": 33,
   "metadata": {
    "collapsed": true
   },
   "outputs": [],
   "source": [
    "# Output resulting df 'Data_Out' to CSV\n",
    "# In future the path could be input by user or similar -\n",
    "# currently the filename is static.\n",
    "\n",
    "# NB : this works, so do not touch!\n",
    "\n",
    "Data_Out.to_csv('Output_'+Input_CSV_File, encoding='utf-8', index=False)"
   ]
  },
  {
   "cell_type": "code",
   "execution_count": 34,
   "metadata": {},
   "outputs": [
    {
     "name": "stdout",
     "output_type": "stream",
     "text": [
      "CSV has been output... time for a beer!\n"
     ]
    }
   ],
   "source": [
    "print ('CSV has been output... time for a beer!')"
   ]
  },
  {
   "cell_type": "code",
   "execution_count": null,
   "metadata": {
    "collapsed": true
   },
   "outputs": [],
   "source": []
  }
 ],
 "metadata": {
  "kernelspec": {
   "display_name": "Python 3",
   "language": "python",
   "name": "python3"
  },
  "language_info": {
   "codemirror_mode": {
    "name": "ipython",
    "version": 3
   },
   "file_extension": ".py",
   "mimetype": "text/x-python",
   "name": "python",
   "nbconvert_exporter": "python",
   "pygments_lexer": "ipython3",
   "version": "3.6.2"
  }
 },
 "nbformat": 4,
 "nbformat_minor": 2
}
