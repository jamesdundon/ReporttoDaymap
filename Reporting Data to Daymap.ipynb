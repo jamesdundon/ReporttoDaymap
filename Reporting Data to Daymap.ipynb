{
 "cells": [
  {
   "cell_type": "markdown",
   "metadata": {},
   "source": [
    "# Convert Year 11 Reporting Data to Daymap"
   ]
  },
  {
   "cell_type": "code",
   "execution_count": 1,
   "metadata": {
    "collapsed": true
   },
   "outputs": [],
   "source": [
    "# Python3 Script to import CSV containing student reporting data,\n",
    "# automatically remove useless data, then append & re-format other\n",
    "# data into suitable format for import into Daymap.\n",
    "# \n",
    "# Author: Glen McKie & James Dundon\n",
    "# e: glen.mckie709@schools.sa.edu.au\n",
    "# e: james.dundon341@schools.sa.edu.au\n",
    "# Organisation: Modbury High School\n",
    "# \n",
    "# Current Version: in progress\n",
    "# Date: December 2017\n",
    "\n",
    "#CSV data should be organised using the included CSV titled Yr11_daymap_preparationSubject.csv\n"
   ]
  },
  {
   "cell_type": "code",
   "execution_count": 212,
   "metadata": {
    "collapsed": true
   },
   "outputs": [],
   "source": [
    "# Import pandas library\n",
    "import pandas as pd\n",
    "\n",
    "# Numpy libraryu not required at this stage...\n",
    "# import numpy as np"
   ]
  },
  {
   "cell_type": "code",
   "execution_count": 226,
   "metadata": {},
   "outputs": [
    {
     "name": "stdout",
     "output_type": "stream",
     "text": [
      "Attempting to import Reporting Data from file: \"Yr11_daymap_preparationSubject.csv\"...\n"
     ]
    }
   ],
   "source": [
    "# Read CSV file (Reporting) & input into a Pandas 'data frame'\n",
    "\n",
    "# Define import path as variable \"filename\"\n",
    "# This could be an input variable in later versions...\n",
    "\n",
    "Input_CSV_File = 'Yr11_daymap_preparationSubject.csv'\n",
    "print ('Attempting to import Reporting Data from file: \"'+ Input_CSV_File + '\"...')\n",
    "Data_In = pd.read_csv(Input_CSV_File)\n",
    "\n"
   ]
  },
  {
   "cell_type": "code",
   "execution_count": 241,
   "metadata": {},
   "outputs": [
    {
     "name": "stdout",
     "output_type": "stream",
     "text": [
      "Import of \"Yr11_daymap_preparationSubject.csv\" was successful!\n",
      "      Student ID      Report Class Code        Item Code EnteredText\n",
      "2215      170395  11 Physical Education  Subject grade 2           A\n",
      "2216      170395  11 Physical Education  Subject grade 3           A\n",
      "2217      170395     11 Scientific St B    Subject grade          C+\n",
      "2218      170395     11 Scientific St B  Subject grade 2         NaN\n",
      "2219      170395     11 Scientific St B  Subject grade 3           C\n"
     ]
    }
   ],
   "source": [
    "# TRACER !!\n",
    "# Check file import for correctness\n",
    "print('Import of \"' + Input_CSV_File + '\" was successful!')\n",
    "print(Data_In.tail())"
   ]
  },
  {
   "cell_type": "code",
   "execution_count": 242,
   "metadata": {},
   "outputs": [
    {
     "name": "stdout",
     "output_type": "stream",
     "text": [
      "All students have the correct number of grade attributes\n"
     ]
    }
   ],
   "source": [
    "# Check for dodgy student data, may not catch all if have varied subject numbers.\n",
    "grade_types = 3\n",
    "Student_IDS = Data_In['Student ID'].astype('str')\n",
    "uniqueIDS = []\n",
    "for student in Student_IDS:\n",
    "    if Student_IDS.str.count(student).sum() % grade_types != 0:\n",
    "        if not student in uniqueIDS:\n",
    "            uniqueIDS.append(student)\n",
    "\n",
    "if len(uniqueIDS) > 0:\n",
    "    for student in uniqueIDS:\n",
    "        print((student)+':','does not have the correct number of grade attributes')\n",
    "else:          \n",
    "    print('All students have the correct number of grade attributes')"
   ]
  },
  {
   "cell_type": "code",
   "execution_count": 244,
   "metadata": {},
   "outputs": [
    {
     "name": "stdout",
     "output_type": "stream",
     "text": [
      "[130257, 130258, 140005, 140006, 140009, 140010, 140011, 140012, 140013, 140014, 140016, 140017, 140018, 140019, 140020, 140022, 140023, 140024, 140025, 140027, 140028, 140030, 140032, 140033, 140035, 140036, 140037, 140039, 140040, 140041, 140046, 140047, 140048, 140049, 140051, 140052, 140053, 140055, 140056, 140059, 140064, 140067, 140073, 140074, 140076, 140080, 140081, 140082, 140084, 140085, 140086, 140087, 140089, 140090, 140091, 140092, 140094, 140096, 140097, 140098, 140099, 140100, 140102, 140103, 140104, 140105, 140106, 140107, 140111, 140112, 140113, 140115, 140117, 140118, 140123, 140125, 140126, 140127, 140129, 140130, 140132, 140133, 140134, 140135, 140137, 140138, 140140, 140142, 140144, 140146, 140147, 140149, 140150, 140151, 140153, 140154, 140155, 140156, 140157, 140158, 140159, 140160, 140161, 140162, 140163, 140166, 140167, 140168, 140169, 140170, 140171, 140172, 140173, 140175, 140179, 140187, 140209, 140222, 140252, 150256, 150270, 150298, 150322, 150324, 160088, 160245, 170353, 170359, 170395]\n"
     ]
    }
   ],
   "source": [
    "# Creates a list of student ID's\n",
    "studentIDS = []\n",
    "for i in range(len(Data_In.index)):\n",
    "    if not Data_In.loc[i]['Student ID'] in studentIDS:\n",
    "        studentIDS.append(Data_In.loc[i]['Student ID'])\n",
    "print(len(studentIDS))"
   ]
  },
  {
   "cell_type": "code",
   "execution_count": 231,
   "metadata": {},
   "outputs": [
    {
     "name": "stdout",
     "output_type": "stream",
     "text": [
      "Length of index: 2220\n"
     ]
    }
   ],
   "source": [
    "#Check the length of Index\n",
    "print('Length of index:',len(Data_In.index))"
   ]
  },
  {
   "cell_type": "code",
   "execution_count": 248,
   "metadata": {},
   "outputs": [
    {
     "name": "stdout",
     "output_type": "stream",
     "text": [
      "Setting up new data frame to hold imported data...\n",
      "    StudentCode Subject1 Subject2 Subject3 Subject4 Subject5 Subject6 Subject7\n",
      "124                                                                           \n",
      "125                                                                           \n",
      "126                                                                           \n",
      "127                                                                           \n",
      "128                                                                           \n"
     ]
    }
   ],
   "source": [
    "# Required CSV format is:\n",
    "# Column 1 = Student_Code\n",
    "# Columns 2:_ = Subjects\n",
    "\n",
    "# Number of subjects\n",
    "Num_subjects = 7\n",
    "\n",
    "# Set up a data frame to hold data in converted format\n",
    "\n",
    "print('Setting up new data frame to hold imported data...')\n",
    "\n",
    "#Required_Format = {'StudentCode' : [''],'Subject1' : [''], 'Subject2' : [''] ,'Subject3' : [''] ,'Subject4' : [''],'Subject5' : [''],'Subject6' : [''],'Subject7' : ['']}\n",
    "Required_Format = {'StudentCode' : ['']}\n",
    "for i in range(Num_subjects):\n",
    "    Required_Format['Subject'+str(i+1)] = ['']\n",
    "\n",
    "\n",
    "\n",
    "Data_Out = pd.DataFrame(Required_Format)\n",
    "\n",
    "# Specify order of Data_Out columns\n",
    "\n",
    "#Data_Out = Data_Out[['StudentCode','Subject1','Subject2','Subject3','Subject4','Subject5','Subject6','Subject7']]\n",
    "\n",
    "# Would like to automate this based on Num_subjects\n",
    "row = pd.Series(['','','','','','','',''], index = ['StudentCode','Subject1','Subject2','Subject3','Subject4','Subject5','Subject6','Subject7'])\n",
    "\n",
    "# Creates an empty data frame with rows equalling the length of unique student ID's\n",
    "for i in range(len(studentIDS)-1):\n",
    "                Data_Out = Data_Out.append(row,ignore_index=True)\n",
    "\n",
    "#Check structure\n",
    "print(Data_Out.tail())"
   ]
  },
  {
   "cell_type": "code",
   "execution_count": 249,
   "metadata": {
    "scrolled": false
   },
   "outputs": [
    {
     "name": "stdout",
     "output_type": "stream",
     "text": [
      "New Data Frame Complete!\n"
     ]
    }
   ],
   "source": [
    "# Create variable to act as index within Data_In AND Data_Out df...\n",
    "data_out_index = 0\n",
    "data_in_index = 0\n",
    "\n",
    "# Grade types ie term, exam, semester\n",
    "grade_types = 3\n",
    "\n",
    "# Loop through each student ID\n",
    "for ID in studentIDS:\n",
    "\n",
    "    #While the student ID matches a row in the dataframe with that ID\n",
    "    while ID == Data_In.loc[data_in_index]['Student ID']:\n",
    "        # Extract Student ID from CSV & place data into df 'Data_Out' as Student Code\n",
    "\n",
    "        Data_Out.loc[data_out_index]['StudentCode'] = Data_In.loc[data_in_index]['Student ID']\n",
    "        student_code = Data_In.loc[data_in_index]['Student ID']\n",
    "\n",
    "        # Required data for each subject is \"SubjectName: Term 2, Grade, Exam, Grade, Semester, Grade\" \n",
    "        # Term_Grade = Subject grade in INPUT file\n",
    "        # Exam_Grade = Subject grade2 in INPUT file\n",
    "        # Semester_Grade = Subject grade3 in INPUT file\n",
    "\n",
    "        ############################## \n",
    "\n",
    "        # Extract SUBJECT data & place data into df 'Data_Out' in required format\n",
    "        # if student_code in row matches current student (handles limited subjects for a student)\n",
    "        # Cycles through for number of subjects in Num_subjects\n",
    "        for i in range(Num_subjects):\n",
    "            if  student_code == Data_In.loc[data_in_index]['Student ID']:\n",
    "                subject_name = str(Data_In.loc[data_in_index]['Report Class Code'])\n",
    "                term_grade = str(Data_In.loc[data_in_index]['EnteredText'])\n",
    "                exam_grade = str(Data_In.loc[data_in_index+1]['EnteredText'])\n",
    "                semester_grade = str(Data_In.loc[data_in_index+2]['EnteredText'])\n",
    "                # Deal with nan grade bug\n",
    "                if(term_grade) == 'nan':\n",
    "                        term_grade = str('NA')\n",
    "                if(exam_grade) == 'nan':\n",
    "                        exam_grade = str('NA')\n",
    "                if(semester_grade) == 'nan':\n",
    "                        semester_grade = str('NA')\n",
    "\n",
    "                Data_Out.loc[data_out_index]['Subject'+str(i+1)] = subject_name + \": \" + \"Term 4, \" + term_grade + \", Exam, \" + exam_grade +\", Semester, \" + semester_grade\n",
    "\n",
    "                # Output converted SUBJECT data for checking\n",
    "                converted_summary = Data_Out.loc[data_out_index,'Subject'+str(i+1)]\n",
    "                # To print output, uncomment line below\n",
    "                #print(converted_summary)\n",
    "                # Move to next subject within the same student's data in Data_In\n",
    "                if data_in_index + 3 > len(Data_In.index)-1:\n",
    "                    break\n",
    "                else:\n",
    "                    data_in_index = data_in_index + grade_types\n",
    "        \n",
    "        data_out_index += 1\n",
    "        if data_in_index + grade_types > len(Data_In.index)-1:\n",
    "            break\n",
    "\n",
    "#All data loop Finished    \n",
    "print('New Data Frame Complete!')"
   ]
  },
  {
   "cell_type": "code",
   "execution_count": 250,
   "metadata": {
    "collapsed": true
   },
   "outputs": [],
   "source": [
    "# Output resulting df 'Data_Out' to CSV\n",
    "# In future the path could be input by user or similar -\n",
    "# currently the filename is static.\n",
    "\n",
    "# NB : this works, so do not touch!\n",
    "\n",
    "Data_Out.to_csv('Output_'+Input_CSV_File, encoding='utf-8', index=False)"
   ]
  },
  {
   "cell_type": "code",
   "execution_count": 251,
   "metadata": {},
   "outputs": [
    {
     "name": "stdout",
     "output_type": "stream",
     "text": [
      "CSV has been output... time for a beer!\n"
     ]
    }
   ],
   "source": [
    "print ('CSV has been output... time for a beer!')"
   ]
  },
  {
   "cell_type": "code",
   "execution_count": 253,
   "metadata": {},
   "outputs": [
    {
     "data": {
      "text/html": [
       "<div>\n",
       "<style scoped>\n",
       "    .dataframe tbody tr th:only-of-type {\n",
       "        vertical-align: middle;\n",
       "    }\n",
       "\n",
       "    .dataframe tbody tr th {\n",
       "        vertical-align: top;\n",
       "    }\n",
       "\n",
       "    .dataframe thead th {\n",
       "        text-align: right;\n",
       "    }\n",
       "</style>\n",
       "<table border=\"1\" class=\"dataframe\">\n",
       "  <thead>\n",
       "    <tr style=\"text-align: right;\">\n",
       "      <th></th>\n",
       "      <th>StudentCode</th>\n",
       "      <th>Subject1</th>\n",
       "      <th>Subject2</th>\n",
       "      <th>Subject3</th>\n",
       "      <th>Subject4</th>\n",
       "      <th>Subject5</th>\n",
       "      <th>Subject6</th>\n",
       "      <th>Subject7</th>\n",
       "    </tr>\n",
       "  </thead>\n",
       "  <tbody>\n",
       "    <tr>\n",
       "      <th>124</th>\n",
       "      <td>160088</td>\n",
       "      <td>11 English: Term 4, B, Exam, NA, Semester, B</td>\n",
       "      <td>11 Info Pro &amp; Pub: Term 4, D, Exam, NA, Semest...</td>\n",
       "      <td>11 Legal Studies: Term 4, C, Exam, C, Semester, C</td>\n",
       "      <td>11 Maths General: Term 4, B, Exam, B, Semester, B</td>\n",
       "      <td>11 Outdoor Const: Term 4, A, Exam, NA, Semeste...</td>\n",
       "      <td>11 Sport &amp; Recreation: Term 4, B, Exam, NA, Se...</td>\n",
       "      <td></td>\n",
       "    </tr>\n",
       "    <tr>\n",
       "      <th>125</th>\n",
       "      <td>160245</td>\n",
       "      <td>11 English: Term 4, B, Exam, NA, Semester, B</td>\n",
       "      <td>11 History: Term 4, C, Exam, C+, Semester, C</td>\n",
       "      <td>11 Hospitality: Term 4, B, Exam, NA, Semester, A</td>\n",
       "      <td>11 Legal Studies: Term 4, E, Exam, D, Semester, D</td>\n",
       "      <td>11 Maths General: Term 4, blank, Exam, blank, ...</td>\n",
       "      <td>11 Outdoor Const: Term 4, A, Exam, NA, Semeste...</td>\n",
       "      <td></td>\n",
       "    </tr>\n",
       "    <tr>\n",
       "      <th>126</th>\n",
       "      <td>170353</td>\n",
       "      <td>11 ESL: Term 4, C+, Exam, A, Semester, C</td>\n",
       "      <td>11 Maths General: Term 4, D, Exam, C, Semester, D</td>\n",
       "      <td>11 Metalwork: Term 4, B, Exam, NA, Semester, B</td>\n",
       "      <td>11 Physical Education: Term 4, C, Exam, C, Sem...</td>\n",
       "      <td>11 Research Practices: Term 4, C-, Exam, NA, S...</td>\n",
       "      <td>11 Woodwork: Term 4, B, Exam, NA, Semester, B</td>\n",
       "      <td></td>\n",
       "    </tr>\n",
       "    <tr>\n",
       "      <th>127</th>\n",
       "      <td>170359</td>\n",
       "      <td>11 Chemistry: Term 4, A, Exam, A, Semester, A</td>\n",
       "      <td>11 English Studies: Term 4, A, Exam, A, Semest...</td>\n",
       "      <td>11 Maths Studies 3: Term 4, A, Exam, A, Semest...</td>\n",
       "      <td>11 Maths Studies 4: Term 4, A, Exam, A, Semest...</td>\n",
       "      <td>11 Physics: Term 4, A, Exam, B, Semester, A</td>\n",
       "      <td></td>\n",
       "      <td></td>\n",
       "    </tr>\n",
       "    <tr>\n",
       "      <th>128</th>\n",
       "      <td>170395</td>\n",
       "      <td>10 PLP: Term 4, C-, Exam, NA, Semester, C-</td>\n",
       "      <td>11 Biology: Term 4, B, Exam, A, Semester, B</td>\n",
       "      <td>11 English: Term 4, B, Exam, NA, Semester, B</td>\n",
       "      <td>11 Maths General: Term 4, C, Exam, A, Semester, B</td>\n",
       "      <td>11 Nutrition: Term 4, C, Exam, NA, Semester, C</td>\n",
       "      <td>11 Physical Education: Term 4, A, Exam, A, Sem...</td>\n",
       "      <td>11 Scientific St B: Term 4, C+, Exam, NA, Seme...</td>\n",
       "    </tr>\n",
       "  </tbody>\n",
       "</table>\n",
       "</div>"
      ],
      "text/plain": [
       "    StudentCode                                       Subject1  \\\n",
       "124      160088   11 English: Term 4, B, Exam, NA, Semester, B   \n",
       "125      160245   11 English: Term 4, B, Exam, NA, Semester, B   \n",
       "126      170353       11 ESL: Term 4, C+, Exam, A, Semester, C   \n",
       "127      170359  11 Chemistry: Term 4, A, Exam, A, Semester, A   \n",
       "128      170395     10 PLP: Term 4, C-, Exam, NA, Semester, C-   \n",
       "\n",
       "                                              Subject2  \\\n",
       "124  11 Info Pro & Pub: Term 4, D, Exam, NA, Semest...   \n",
       "125       11 History: Term 4, C, Exam, C+, Semester, C   \n",
       "126  11 Maths General: Term 4, D, Exam, C, Semester, D   \n",
       "127  11 English Studies: Term 4, A, Exam, A, Semest...   \n",
       "128        11 Biology: Term 4, B, Exam, A, Semester, B   \n",
       "\n",
       "                                              Subject3  \\\n",
       "124  11 Legal Studies: Term 4, C, Exam, C, Semester, C   \n",
       "125   11 Hospitality: Term 4, B, Exam, NA, Semester, A   \n",
       "126     11 Metalwork: Term 4, B, Exam, NA, Semester, B   \n",
       "127  11 Maths Studies 3: Term 4, A, Exam, A, Semest...   \n",
       "128       11 English: Term 4, B, Exam, NA, Semester, B   \n",
       "\n",
       "                                              Subject4  \\\n",
       "124  11 Maths General: Term 4, B, Exam, B, Semester, B   \n",
       "125  11 Legal Studies: Term 4, E, Exam, D, Semester, D   \n",
       "126  11 Physical Education: Term 4, C, Exam, C, Sem...   \n",
       "127  11 Maths Studies 4: Term 4, A, Exam, A, Semest...   \n",
       "128  11 Maths General: Term 4, C, Exam, A, Semester, B   \n",
       "\n",
       "                                              Subject5  \\\n",
       "124  11 Outdoor Const: Term 4, A, Exam, NA, Semeste...   \n",
       "125  11 Maths General: Term 4, blank, Exam, blank, ...   \n",
       "126  11 Research Practices: Term 4, C-, Exam, NA, S...   \n",
       "127        11 Physics: Term 4, A, Exam, B, Semester, A   \n",
       "128     11 Nutrition: Term 4, C, Exam, NA, Semester, C   \n",
       "\n",
       "                                              Subject6  \\\n",
       "124  11 Sport & Recreation: Term 4, B, Exam, NA, Se...   \n",
       "125  11 Outdoor Const: Term 4, A, Exam, NA, Semeste...   \n",
       "126      11 Woodwork: Term 4, B, Exam, NA, Semester, B   \n",
       "127                                                      \n",
       "128  11 Physical Education: Term 4, A, Exam, A, Sem...   \n",
       "\n",
       "                                              Subject7  \n",
       "124                                                     \n",
       "125                                                     \n",
       "126                                                     \n",
       "127                                                     \n",
       "128  11 Scientific St B: Term 4, C+, Exam, NA, Seme...  "
      ]
     },
     "execution_count": 253,
     "metadata": {},
     "output_type": "execute_result"
    }
   ],
   "source": [
    "print(Data_Out.tail())"
   ]
  },
  {
   "cell_type": "markdown",
   "metadata": {
    "collapsed": true
   },
   "source": []
  },
  {
   "cell_type": "code",
   "execution_count": null,
   "metadata": {
    "collapsed": true
   },
   "outputs": [],
   "source": []
  }
 ],
 "metadata": {
  "kernelspec": {
   "display_name": "Python 3",
   "language": "python",
   "name": "python3"
  },
  "language_info": {
   "codemirror_mode": {
    "name": "ipython",
    "version": 3
   },
   "file_extension": ".py",
   "mimetype": "text/x-python",
   "name": "python",
   "nbconvert_exporter": "python",
   "pygments_lexer": "ipython3",
   "version": "3.6.2"
  }
 },
 "nbformat": 4,
 "nbformat_minor": 2
}
