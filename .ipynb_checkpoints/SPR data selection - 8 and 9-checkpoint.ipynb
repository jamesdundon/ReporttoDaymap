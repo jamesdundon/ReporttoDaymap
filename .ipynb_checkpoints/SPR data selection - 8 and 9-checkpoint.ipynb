{
 "cells": [
  {
   "cell_type": "code",
   "execution_count": 1,
   "metadata": {
    "collapsed": true
   },
   "outputs": [],
   "source": [
    "# Import pandas library\n",
    "import pandas as pd"
   ]
  },
  {
   "cell_type": "code",
   "execution_count": 2,
   "metadata": {
    "collapsed": true
   },
   "outputs": [],
   "source": [
    "# Read in SPR output data to dataframe, see sample xlsx for format. \n",
    "# Read in student codes to dataframe, can be updated as needed.\n",
    "df = pd.read_excel('Yr8_9_daymap_preparation.xlsx')\n",
    "studentCodes = pd.read_csv('ClassCodes.csv',index_col=0)"
   ]
  },
  {
   "cell_type": "code",
   "execution_count": 3,
   "metadata": {
    "collapsed": true
   },
   "outputs": [],
   "source": [
    "# Create dictionary from student codes\n",
    "SCDict = studentCodes.to_dict(orient='dict')"
   ]
  },
  {
   "cell_type": "code",
   "execution_count": 4,
   "metadata": {
    "collapsed": true
   },
   "outputs": [],
   "source": [
    "# Select only important columns.\n",
    "df= df[['Student','ID','Level','Select','Report','Report.1']]"
   ]
  },
  {
   "cell_type": "code",
   "execution_count": 5,
   "metadata": {
    "collapsed": true
   },
   "outputs": [],
   "source": [
    "# Create criteria to select only the row that match the following:\n",
    "criteria1 = df['Select']== 'Subject'\n",
    "criteria2 = df['Report']== 'grade'\n",
    "criteria3 = df['Report.1'].isin(['A','B','C+','C','C-','D','E','NA','UC']) \n",
    "criteriaall = criteria1 & criteria2 & criteria3"
   ]
  },
  {
   "cell_type": "code",
   "execution_count": 6,
   "metadata": {},
   "outputs": [
    {
     "data": {
      "text/html": [
       "<div>\n",
       "<style scoped>\n",
       "    .dataframe tbody tr th:only-of-type {\n",
       "        vertical-align: middle;\n",
       "    }\n",
       "\n",
       "    .dataframe tbody tr th {\n",
       "        vertical-align: top;\n",
       "    }\n",
       "\n",
       "    .dataframe thead th {\n",
       "        text-align: right;\n",
       "    }\n",
       "</style>\n",
       "<table border=\"1\" class=\"dataframe\">\n",
       "  <thead>\n",
       "    <tr style=\"text-align: right;\">\n",
       "      <th></th>\n",
       "      <th>Student ID</th>\n",
       "      <th>Year Level</th>\n",
       "      <th>Subject Code</th>\n",
       "      <th>Select</th>\n",
       "      <th>Report</th>\n",
       "      <th>EnteredText</th>\n",
       "      <th>Subject</th>\n",
       "    </tr>\n",
       "  </thead>\n",
       "  <tbody>\n",
       "    <tr>\n",
       "      <th>2297</th>\n",
       "      <td>170416</td>\n",
       "      <td>8</td>\n",
       "      <td>8LLA1</td>\n",
       "      <td>Subject</td>\n",
       "      <td>grade</td>\n",
       "      <td>B</td>\n",
       "      <td>8 Language &amp; Literacy</td>\n",
       "    </tr>\n",
       "    <tr>\n",
       "      <th>2298</th>\n",
       "      <td>170416</td>\n",
       "      <td>8</td>\n",
       "      <td>8AT02</td>\n",
       "      <td>Subject</td>\n",
       "      <td>grade</td>\n",
       "      <td>C</td>\n",
       "      <td>8 Art</td>\n",
       "    </tr>\n",
       "    <tr>\n",
       "      <th>2299</th>\n",
       "      <td>170416</td>\n",
       "      <td>8</td>\n",
       "      <td>8EG02</td>\n",
       "      <td>Subject</td>\n",
       "      <td>grade</td>\n",
       "      <td>C</td>\n",
       "      <td>8 English</td>\n",
       "    </tr>\n",
       "    <tr>\n",
       "      <th>2300</th>\n",
       "      <td>170416</td>\n",
       "      <td>8</td>\n",
       "      <td>8PE02</td>\n",
       "      <td>Subject</td>\n",
       "      <td>grade</td>\n",
       "      <td>C</td>\n",
       "      <td>8 Physical Education</td>\n",
       "    </tr>\n",
       "    <tr>\n",
       "      <th>2301</th>\n",
       "      <td>170416</td>\n",
       "      <td>8</td>\n",
       "      <td>8SC02</td>\n",
       "      <td>Subject</td>\n",
       "      <td>grade</td>\n",
       "      <td>C-</td>\n",
       "      <td>8 Science</td>\n",
       "    </tr>\n",
       "    <tr>\n",
       "      <th>2302</th>\n",
       "      <td>170416</td>\n",
       "      <td>8</td>\n",
       "      <td>8MAA3</td>\n",
       "      <td>Subject</td>\n",
       "      <td>grade</td>\n",
       "      <td>E</td>\n",
       "      <td>8 Maths General</td>\n",
       "    </tr>\n",
       "    <tr>\n",
       "      <th>2303</th>\n",
       "      <td>170416</td>\n",
       "      <td>8</td>\n",
       "      <td>8SV02</td>\n",
       "      <td>Subject</td>\n",
       "      <td>grade</td>\n",
       "      <td>E</td>\n",
       "      <td>8 Humanities</td>\n",
       "    </tr>\n",
       "  </tbody>\n",
       "</table>\n",
       "</div>"
      ],
      "text/plain": [
       "      Student ID  Year Level Subject Code   Select Report EnteredText  \\\n",
       "2297      170416           8        8LLA1  Subject  grade           B   \n",
       "2298      170416           8        8AT02  Subject  grade           C   \n",
       "2299      170416           8        8EG02  Subject  grade           C   \n",
       "2300      170416           8        8PE02  Subject  grade           C   \n",
       "2301      170416           8        8SC02  Subject  grade          C-   \n",
       "2302      170416           8        8MAA3  Subject  grade           E   \n",
       "2303      170416           8        8SV02  Subject  grade           E   \n",
       "\n",
       "                    Subject  \n",
       "2297  8 Language & Literacy  \n",
       "2298                  8 Art  \n",
       "2299              8 English  \n",
       "2300   8 Physical Education  \n",
       "2301              8 Science  \n",
       "2302        8 Maths General  \n",
       "2303           8 Humanities  "
      ]
     },
     "execution_count": 6,
     "metadata": {},
     "output_type": "execute_result"
    }
   ],
   "source": [
    "# Modify dataframe to match criteria and add a subject column.\n",
    "dfsorted = df[criteriaall]\n",
    "dfsorted = dfsorted.sort_values(['Student','Report.1'])\n",
    "dfsorted = dfsorted.reset_index(drop=True)\n",
    "dfsorted.columns = ['Student ID','Year Level','Subject Code','Select','Report','EnteredText']\n",
    "subjects = []\n",
    "for i in range(len(dfsorted.index)):\n",
    "    subjects.append(SCDict['Subject Name'][dfsorted.loc[i,'Subject Code']])\n",
    "dfsorted['Subject'] = subjects\n",
    "dfsorted.tail(7)"
   ]
  },
  {
   "cell_type": "code",
   "execution_count": 7,
   "metadata": {
    "collapsed": true
   },
   "outputs": [],
   "source": [
    "# Separate data into a year 8 and 9 dataframe\n",
    "year8 = dfsorted[dfsorted['Year Level']== 8].reset_index(drop=True)\n",
    "year9 = dfsorted[dfsorted['Year Level']== 9].reset_index(drop=True)"
   ]
  },
  {
   "cell_type": "code",
   "execution_count": 8,
   "metadata": {
    "collapsed": true
   },
   "outputs": [],
   "source": [
    "# Output dataframes to CSV\n",
    "year8.to_csv('Output_'+'year8.csv', encoding='utf-8', index=False)\n",
    "year9.to_csv('Output_'+'year9.csv', encoding='utf-8', index=False)"
   ]
  },
  {
   "cell_type": "code",
   "execution_count": null,
   "metadata": {
    "collapsed": true
   },
   "outputs": [],
   "source": []
  },
  {
   "cell_type": "code",
   "execution_count": null,
   "metadata": {
    "collapsed": true
   },
   "outputs": [],
   "source": []
  }
 ],
 "metadata": {
  "kernelspec": {
   "display_name": "Python 3",
   "language": "python",
   "name": "python3"
  },
  "language_info": {
   "codemirror_mode": {
    "name": "ipython",
    "version": 3
   },
   "file_extension": ".py",
   "mimetype": "text/x-python",
   "name": "python",
   "nbconvert_exporter": "python",
   "pygments_lexer": "ipython3",
   "version": "3.6.2"
  }
 },
 "nbformat": 4,
 "nbformat_minor": 2
}
